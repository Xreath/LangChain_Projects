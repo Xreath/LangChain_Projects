{
 "cells": [
  {
   "cell_type": "markdown",
   "id": "12788d45",
   "metadata": {},
   "source": [
    "## Implementing a ChatGPT App with LangChain from Scratch\n",
    "\n",
    "Last Update: Jan 10, 2024\n",
    "\n",
    "This is part of my **\"Learn LangChain, Pinecone & OpenAI: Build Next-Gen LLM Apps\"** course.\n",
    "\n",
    "https://www.udemy.com/course/master-langchain-pinecone-openai-build-llm-applications/?referralCode=4B17E3BD4CBBEA3B8321"
   ]
  },
  {
   "cell_type": "code",
   "execution_count": null,
   "id": "50d6cc91",
   "metadata": {},
   "outputs": [],
   "source": [
    "pip install -q \"openai<1\""
   ]
  },
  {
   "cell_type": "code",
   "execution_count": null,
   "id": "9777cbac",
   "metadata": {},
   "outputs": [],
   "source": [
    "pip install -q \"langchain<1\""
   ]
  },
  {
   "cell_type": "code",
   "execution_count": 4,
   "id": "506a128c",
   "metadata": {},
   "outputs": [],
   "source": [
    "import warnings\n",
    "warnings.filterwarnings('ignore')"
   ]
  },
  {
   "cell_type": "code",
   "execution_count": 7,
   "id": "60530a1d",
   "metadata": {},
   "outputs": [
    {
     "name": "stdout",
     "output_type": "stream",
     "text": [
      "Your prompt: Paris is ...\n",
      "\n",
      "\n",
      "\u001b[1m> Entering new LLMChain chain...\u001b[0m\n",
      "Prompt after formatting:\n",
      "\u001b[32;1m\u001b[1;3mSystem: You respond only in German.\n",
      "Human: Paris is ...\u001b[0m\n",
      "\n",
      "\u001b[1m> Finished chain.\u001b[0m\n",
      "Paris ist die Hauptstadt von Frankreich. Es ist eine der bekanntesten und schönsten Städte der Welt. Paris hat eine reiche Geschichte, eine vielfältige Kultur und ist für seine Architektur, Kunst, Mode, Küche und romantische Atmosphäre bekannt. Die Stadt beherbergt berühmte Sehenswürdigkeiten wie den Eiffelturm, den Louvre, die Kathedrale Notre-Dame und den Montmartre. Paris ist auch ein wichtiger Wirtschafts- und Bildungszentrum und zieht jedes Jahr Millionen von Touristen an.\n",
      "--------------------------------------------------\n",
      "Your prompt: Okay, what about its area?\n",
      "\n",
      "\n",
      "\u001b[1m> Entering new LLMChain chain...\u001b[0m\n",
      "Prompt after formatting:\n",
      "\u001b[32;1m\u001b[1;3mSystem: You respond only in German.\n",
      "Human: Okay, what about its area?\u001b[0m\n",
      "\n",
      "\u001b[1m> Finished chain.\u001b[0m\n",
      "Die Fläche eines Objekts ist die Maßeinheit, die den Raum abdeckt, den das Objekt einnimmt. Die Fläche kann in Quadratmetern (m²) oder einer anderen geeigneten Einheit gemessen werden, abhängig von der Größe des Objekts. Um die Fläche zu berechnen, multiplizieren Sie die Länge mit der Breite des Objekts oder verwenden Sie eine geeignete Formel, je nach Form des Objekts.\n",
      "--------------------------------------------------\n",
      "Your prompt: quit\n",
      "Goodbye!\n"
     ]
    }
   ],
   "source": [
    "from dotenv import load_dotenv, find_dotenv\n",
    "load_dotenv(find_dotenv(), override=True) \n",
    "\n",
    "from langchain.chat_models import ChatOpenAI\n",
    "from langchain.schema import SystemMessage\n",
    "from langchain.chains import LLMChain\n",
    "from langchain.prompts import ChatPromptTemplate, HumanMessagePromptTemplate\n",
    "\n",
    "\n",
    "llm = ChatOpenAI(model_name='gpt-3.5-turbo', temperature=1)\n",
    "\n",
    "prompt = ChatPromptTemplate(\n",
    "    input_variables=[\"content\"],\n",
    "    messages=[\n",
    "#         SystemMessage(content=\"You are a chatbot having a conversation with a human.\"),\n",
    "        SystemMessage(content='You respond only in German.'),\n",
    "        HumanMessagePromptTemplate.from_template(\"{content}\")\n",
    "    ]\n",
    ")\n",
    "\n",
    "chain = LLMChain(\n",
    "    llm=llm,\n",
    "    prompt=prompt,\n",
    "    verbose=True\n",
    ")\n",
    "\n",
    "while True:\n",
    "    content = input('Your prompt: ')\n",
    "    if content.lower() in ['quit', 'exit', 'bye']:\n",
    "        print('Goodbye!')\n",
    "        break\n",
    "    \n",
    "    response = chain.run({'content': content})\n",
    "    print(response)\n",
    "    print('-' * 50)\n",
    "    "
   ]
  },
  {
   "cell_type": "markdown",
   "id": "1370c0b7",
   "metadata": {},
   "source": [
    "## Adding Chat Memory Using ConversationBufferMemory"
   ]
  },
  {
   "cell_type": "code",
   "execution_count": 8,
   "id": "c0a3e2d8",
   "metadata": {},
   "outputs": [
    {
     "name": "stdout",
     "output_type": "stream",
     "text": [
      "Your prompt: Paris is ...\n",
      "the capital city of France and is known for its rich history, art, culture, and famous landmarks such as the Eiffel Tower, Louvre Museum, Notre-Dame Cathedral, and the Champs-Élysées. It is often referred to as the \"City of Love\" and is a popular tourist destination.\n",
      "--------------------------------------------------\n",
      "Your prompt: Okay, what about its area?\n",
      "Paris has an area of approximately 105 square kilometers (41 square miles). It is situated on the Seine River in the north-central part of France. The city is divided into 20 administrative districts, known as arrondissements, which spiral outwards from the city center. Each arrondissement has its own unique character and charm, contributing to the diverse and vibrant nature of Paris as a whole.\n",
      "--------------------------------------------------\n",
      "Your prompt: quit\n",
      "Goodbye!\n"
     ]
    }
   ],
   "source": [
    "from dotenv import load_dotenv, find_dotenv\n",
    "load_dotenv(find_dotenv(), override=False) \n",
    "\n",
    "from langchain.chat_models import ChatOpenAI\n",
    "from langchain.schema import SystemMessage\n",
    "from langchain.chains import LLMChain\n",
    "\n",
    "# 1. Imports\n",
    "from langchain.memory import ConversationBufferMemory\n",
    "from langchain.prompts import ChatPromptTemplate, HumanMessagePromptTemplate, MessagesPlaceholder\n",
    "\n",
    "\n",
    "llm = ChatOpenAI(model_name='gpt-3.5-turbo', temperature=1)\n",
    "\n",
    "# 2. Create memory \n",
    "memory = ConversationBufferMemory(\n",
    "    memory_key='chat_history',\n",
    "    return_messages=True\n",
    ")\n",
    "\n",
    "# 3. add  MessagesPlaceholder(variable_name='messages') to the prompt\n",
    "prompt = ChatPromptTemplate(\n",
    "    input_variables=[\"content\", \"chat_history\"],\n",
    "    messages=[\n",
    "        SystemMessage(content=\"You are a chatbot having a conversation with a human.\"),\n",
    "        MessagesPlaceholder(variable_name=\"chat_history\"), # Where the memory will be stored.\n",
    "        HumanMessagePromptTemplate.from_template(\"{content}\")\n",
    "    ]\n",
    ")\n",
    "\n",
    "# 4. Add the memory to the chain\n",
    "chain = LLMChain(\n",
    "    llm=llm,\n",
    "    prompt=prompt,\n",
    "    memory=memory,\n",
    "    verbose=False\n",
    ")\n",
    "\n",
    "while True:\n",
    "    content = input('Your prompt: ')\n",
    "    if content.lower() in ['quit', 'exit', 'bye']:\n",
    "        print('Goodbye!')\n",
    "        break\n",
    "    \n",
    "    response = chain.run({'content': content})\n",
    "    print(response)\n",
    "    print('-' * 50)\n",
    "    "
   ]
  },
  {
   "cell_type": "markdown",
   "id": "28677aa0",
   "metadata": {},
   "source": [
    "## Saving Chat Sessions"
   ]
  },
  {
   "cell_type": "code",
   "execution_count": 1,
   "id": "723b59ed",
   "metadata": {},
   "outputs": [
    {
     "name": "stdin",
     "output_type": "stream",
     "text": [
      "Your prompt:  Where is the capital city of Turkey\n"
     ]
    },
    {
     "name": "stdout",
     "output_type": "stream",
     "text": [
      "The capital city of Turkey is Ankara.\n",
      "--------------------------------------------------\n"
     ]
    },
    {
     "name": "stdin",
     "output_type": "stream",
     "text": [
      "Your prompt:  If ı am here in Istanbul, how can ı go to Ankara from Istanbul\n"
     ]
    },
    {
     "name": "stdout",
     "output_type": "stream",
     "text": [
      "To travel from Istanbul to Ankara, you have a few options:\n",
      "\n",
      "1. By Plane: You can take a domestic flight from Istanbul to Ankara. There are several airlines that operate daily flights between the two cities, and the duration of the flight is around one hour.\n",
      "\n",
      "2. By Train: You can also take a high-speed train called the \"YHT\" (Yüksek Hızlı Tren) from Istanbul to Ankara. The train departs from Pendik train station on the Asian side of Istanbul and arrives at Ankara train station. The journey takes approximately four hours.\n",
      "\n",
      "3. By Bus: There are several bus companies that operate frequent services between Istanbul and Ankara. The duration of the bus journey varies depending on traffic and other factors, but it usually takes around five to six hours.\n",
      "\n",
      "4. By Car: If you prefer to drive, you can take the O-4/E80 highway, which connects Istanbul and Ankara. The journey by car usually takes around four to five hours, depending on traffic conditions.\n",
      "\n",
      "Please note that the availability and schedules of transportation options may vary, so it's always a good idea to check for the most up-to-date information.\n",
      "--------------------------------------------------\n"
     ]
    },
    {
     "name": "stdin",
     "output_type": "stream",
     "text": [
      "Your prompt:  what did ı ask you\n"
     ]
    },
    {
     "name": "stdout",
     "output_type": "stream",
     "text": [
      "Apologies for the incorrect response. You asked how to go from Istanbul to Ankara. My response provided various transportation options for traveling between the two cities. If there's anything specific you wanted to inquire about, please let me know.\n",
      "--------------------------------------------------\n"
     ]
    },
    {
     "name": "stdin",
     "output_type": "stream",
     "text": [
      "Your prompt:  show chat history\n"
     ]
    },
    {
     "name": "stdout",
     "output_type": "stream",
     "text": [
      "I apologize for the confusion. Here is the chat history regarding your question:\n",
      "\n",
      "User: Where is the capital city of Turkey?\n",
      "Assistant: The capital city of Turkey is Ankara.\n",
      "\n",
      "User: If I am here in Istanbul, how can I go to Ankara from Istanbul?\n",
      "Assistant: To travel from Istanbul to Ankara, you have a few options:\n",
      "1. By Plane: You can take a domestic flight from Istanbul to Ankara.\n",
      "2. By Train: You can also take a high-speed train called the \"YHT\" from Istanbul to Ankara.\n",
      "3. By Bus: There are several bus companies that operate frequent services between Istanbul and Ankara.\n",
      "4. By Car: You can drive on the O-4/E80 highway connecting Istanbul and Ankara.\n",
      "\n",
      "I apologize once again for the confusion caused earlier. Is there anything else I can help with?\n",
      "--------------------------------------------------\n"
     ]
    },
    {
     "name": "stdin",
     "output_type": "stream",
     "text": [
      "Your prompt:  bye\n"
     ]
    },
    {
     "name": "stdout",
     "output_type": "stream",
     "text": [
      "Goodbye!\n"
     ]
    }
   ],
   "source": [
    "from dotenv import load_dotenv, find_dotenv\n",
    "load_dotenv(find_dotenv(), override=False) \n",
    "\n",
    "from langchain.chat_models import ChatOpenAI\n",
    "from langchain.schema import SystemMessage\n",
    "from langchain.chains import LLMChain\n",
    "\n",
    "# 1. Import FileChatMessageHistory\n",
    "from langchain.memory import ConversationBufferMemory, FileChatMessageHistory\n",
    "\n",
    "from langchain.prompts import ChatPromptTemplate, HumanMessagePromptTemplate, MessagesPlaceholder\n",
    "\n",
    "llm = ChatOpenAI(model_name='gpt-3.5-turbo', temperature=1)\n",
    "\n",
    "# 2. Add an additional keyword argument to the ConversationBufferMemory() constructor\n",
    "history = FileChatMessageHistory('chat_history.json')\n",
    "memory = ConversationBufferMemory(\n",
    "    memory_key='chat_history',\n",
    "    chat_memory=history,\n",
    "    return_messages=True\n",
    ")\n",
    "\n",
    "prompt = ChatPromptTemplate(\n",
    "    input_variables=[\"content\", \"chat_history\"],\n",
    "    messages=[\n",
    "        SystemMessage(content=\"You are a chatbot having a conversation with a human.\"),\n",
    "        MessagesPlaceholder(variable_name=\"chat_history\"), \n",
    "        HumanMessagePromptTemplate.from_template(\"{content}\")\n",
    "    ]\n",
    ")\n",
    "\n",
    "chain = LLMChain(\n",
    "    llm=llm,\n",
    "    prompt=prompt,\n",
    "    memory=memory,\n",
    "    verbose=False\n",
    ")\n",
    "\n",
    "while True:\n",
    "    content = input('Your prompt: ')\n",
    "    if content.lower() in ['quit', 'exit', 'bye']:\n",
    "        print('Goodbye!')\n",
    "        break\n",
    "    \n",
    "    response = chain.run({'content': content})\n",
    "    print(response)\n",
    "    print('-' * 50)\n",
    "    "
   ]
  },
  {
   "cell_type": "code",
   "execution_count": 6,
   "id": "42074641",
   "metadata": {
    "scrolled": true
   },
   "outputs": [
    {
     "name": "stdout",
     "output_type": "stream",
     "text": [
      "[HumanMessage(content='Bucharest is ...'), AIMessage(content='the capital and largest city of Romania. It is located in the southern part of the country and is known for its rich history, stunning architecture, and vibrant cultural scene.'), HumanMessage(content='Its area is ...'), AIMessage(content='Bucharest has an area of approximately 228 square kilometers (88 square miles).'), HumanMessage(content='What about its population?'), AIMessage(content='As of 2021, the estimated population of Bucharest is around 2.1 million people. It is the most populous city in Romania and serves as an important cultural, economic, and industrial hub for the country.'), HumanMessage(content='paris is ... '), AIMessage(content='Paris is the capital and largest city of France. It is located in the north-central part of the country, along the Seine River. Paris is famous for its iconic landmarks such as the Eiffel Tower, Louvre Museum, and Notre-Dame Cathedral. It is renowned for its art, fashion, cuisine, and rich cultural history. Paris is also a major global city and a significant center for politics, finance, commerce, and tourism.'), HumanMessage(content='its population ...'), AIMessage(content='As of 2021, the estimated population of Paris is around 2.1 million people within the city limits. However, when including the surrounding metropolitan area, known as the Île-de-France region, the population is much larger, with approximately 12.3 million people. Paris is one of the most densely populated cities in Europe and attracts millions of tourists each year.'), HumanMessage(content='its area?'), AIMessage(content='Paris has an area of approximately 105 square kilometers (41 square miles) within the city proper. However, when considering the broader Île-de-France region, which includes several suburban areas and districts, the total area expands to around 12,000 square kilometers (4,600 square miles).')]\n"
     ]
    }
   ],
   "source": [
    "# The messages property contains the list of messages in order.\n",
    "print(history.messages)"
   ]
  },
  {
   "cell_type": "code",
   "execution_count": null,
   "id": "32cfdd50",
   "metadata": {},
   "outputs": [],
   "source": []
  }
 ],
 "metadata": {
  "kernelspec": {
   "display_name": "Python 3 (ipykernel)",
   "language": "python",
   "name": "python3"
  },
  "language_info": {
   "codemirror_mode": {
    "name": "ipython",
    "version": 3
   },
   "file_extension": ".py",
   "mimetype": "text/x-python",
   "name": "python",
   "nbconvert_exporter": "python",
   "pygments_lexer": "ipython3",
   "version": "3.11.5"
  }
 },
 "nbformat": 4,
 "nbformat_minor": 5
}
